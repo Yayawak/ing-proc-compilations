{
 "cells": [
  {
   "cell_type": "code",
   "execution_count": 45,
   "id": "7a7fba5c-ba52-4838-9bc6-bc2aa4732d9c",
   "metadata": {},
   "outputs": [],
   "source": [
    "import matplotlib.pyplot as plt\n",
    "import numpy as np\n",
    "import cv2\n",
    "\n",
    "from PIL import Image\n",
    "import requests\n",
    "\n"
   ]
  },
  {
   "cell_type": "code",
   "execution_count": 46,
   "id": "9cd0a806-dde9-47a0-ad48-1be35bdb58e7",
   "metadata": {},
   "outputs": [
    {
     "data": {
      "text/plain": [
       "array([255, 255, 255, 255, 255, 254, 255, 255, 255], dtype=uint8)"
      ]
     },
     "execution_count": 46,
     "metadata": {},
     "output_type": "execute_result"
    }
   ],
   "source": [
    "# url = \"https://dfstudio-d420.kxcdn.com/wordpress/wp-content/uploads/2019/06/digital_camera_photo-1080x675.jpg\"\n",
    "# im = Image.open(requests.get(url, stream=True).raw)\n",
    "# im.tobitmap()\n",
    "# im.toqimage()\n",
    "# im.tobytes()\n",
    "im = cv2.imread(\"monsters.png\")\n",
    "# plt.imshow(im)\n",
    "im = cv2.cvtColor(im, cv2.COLOR_BGR2GRAY)\n",
    "# plt.imshow(im, 'gray')\n",
    "# plt.imshow(im)\n",
    "# im = cv2.imread(im)\n",
    "# im\n",
    "# cv2.cvtColor(5, im, 1)\n",
    "\n",
    "# ? cv2.cvtColor\n",
    "# print(cv2)\n",
    "im[1, 1:10]"
   ]
  },
  {
   "cell_type": "code",
   "execution_count": 47,
   "id": "a4a1d5bb-3ea4-4f7c-8e17-176f0bbd9298",
   "metadata": {},
   "outputs": [
    {
     "name": "stdout",
     "output_type": "stream",
     "text": [
      "2\n",
      "(994, 1034)\n"
     ]
    }
   ],
   "source": [
    "print(im.ndim)\n",
    "print(im.shape)"
   ]
  },
  {
   "cell_type": "code",
   "execution_count": 48,
   "id": "1ec30747-4dfb-475e-923e-bf16ed22dca0",
   "metadata": {},
   "outputs": [],
   "source": [
    "a = np.array([\n",
    "    [1,2,3,4],\n",
    "    [0,3,2,1],\n",
    "    [1,2,1,3],\n",
    "    [0,1,2,3]\n",
    "]\n",
    ")\n",
    "from numpy.linalg import det"
   ]
  },
  {
   "cell_type": "code",
   "execution_count": 49,
   "id": "e75e2519-15fc-4a75-88ca-e25c430a5f62",
   "metadata": {
    "scrolled": true
   },
   "outputs": [
    {
     "data": {
      "text/plain": [
       "-12.0"
      ]
     },
     "execution_count": 49,
     "metadata": {},
     "output_type": "execute_result"
    }
   ],
   "source": [
    "det(a)"
   ]
  },
  {
   "cell_type": "code",
   "execution_count": 53,
   "id": "f5488cf5-0708-49eb-b345-644b1c200b53",
   "metadata": {},
   "outputs": [],
   "source": [
    "hist, bin_edges = np.histogram(im, bins=256, range=(0,1))"
   ]
  },
  {
   "cell_type": "code",
   "execution_count": 55,
   "id": "b838444d-6978-4707-b159-d5c04a28c22d",
   "metadata": {},
   "outputs": [
    {
     "data": {
      "text/plain": [
       "[<matplotlib.lines.Line2D at 0x170876150>]"
      ]
     },
     "execution_count": 55,
     "metadata": {},
     "output_type": "execute_result"
    },
    {
     "data": {
      "image/png": "[encoded data removed]",
      "text/plain": [
       "<Figure size 640x480 with 1 Axes>"
      ]
     },
     "metadata": {},
     "output_type": "display_data"
    }
   ],
   "source": [
    "# bin_edges\n",
    "plt.plot(bin_edges[0: -1], hist)"
   ]
  },
  {
   "cell_type": "code",
   "execution_count": null,
   "id": "f924b47e-7390-42bd-87f4-a11ec2284a42",
   "metadata": {},
   "outputs": [],
   "source": [
    "b = np.array([\n",
    "    []\n",
    "])"
   ]
  }
 ],
 "metadata": {
  "kernelspec": {
   "display_name": "Python 3 (ipykernel)",
   "language": "python",
   "name": "python3"
  },
  "language_info": {
   "codemirror_mode": {
    "name": "ipython",
    "version": 3
   },
   "file_extension": ".py",
   "mimetype": "text/x-python",
   "name": "python",
   "nbconvert_exporter": "python",
   "pygments_lexer": "ipython3",
   "version": "3.11.4"
  }
 },
 "nbformat": 4,
 "nbformat_minor": 5
}
