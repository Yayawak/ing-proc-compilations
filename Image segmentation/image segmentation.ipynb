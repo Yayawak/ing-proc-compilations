{
 "cells": [
  {
   "cell_type": "code",
   "execution_count": 1,
   "id": "cf0c6ae0-4a19-40e4-87b5-697b61be4be7",
   "metadata": {},
   "outputs": [],
   "source": [
    "import numpy as np\n",
    "import cv2 \n",
    "import matplotlib.pyplot as plt"
   ]
  },
  {
   "cell_type": "code",
   "execution_count": 6,
   "id": "21c52a7d-08b8-408f-8422-fd5afad46df7",
   "metadata": {},
   "outputs": [
    {
     "data": {
      "text/plain": [
       "array([[234, 239, 242, ..., 249, 250, 250],\n",
       "       [234, 239, 242, ..., 250, 250, 251],\n",
       "       [234, 239, 242, ..., 250, 250, 251],\n",
       "       ...,\n",
       "       [212, 231, 232, ..., 246, 246, 246],\n",
       "       [206, 225, 227, ..., 245, 245, 245],\n",
       "       [200, 219, 222, ..., 244, 244, 244]], dtype=uint8)"
      ]
     },
     "execution_count": 6,
     "metadata": {},
     "output_type": "execute_result"
    }
   ],
   "source": [
    "img = cv2.imread(\"./water_coins.jpeg\")\n",
    "assert img is not None, \"file count not be read\"\n",
    "gray = cv2.cvtColor(img, cv2.COLOR_BGR2GRAY)\n"
   ]
  },
  {
   "cell_type": "code",
   "execution_count": null,
   "id": "460e9efe-e3f2-4f56-b077-f8a2f54462dc",
   "metadata": {},
   "outputs": [],
   "source": []
  }
 ],
 "metadata": {
  "kernelspec": {
   "display_name": "Python 3 (ipykernel)",
   "language": "python",
   "name": "python3"
  },
  "language_info": {
   "codemirror_mode": {
    "name": "ipython",
    "version": 3
   },
   "file_extension": ".py",
   "mimetype": "text/x-python",
   "name": "python",
   "nbconvert_exporter": "python",
   "pygments_lexer": "ipython3",
   "version": "3.9.13"
  }
 },
 "nbformat": 4,
 "nbformat_minor": 5
}
