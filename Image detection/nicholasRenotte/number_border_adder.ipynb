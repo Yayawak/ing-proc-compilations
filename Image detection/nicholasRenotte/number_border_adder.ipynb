{
 "cells": [
  {
   "cell_type": "code",
   "execution_count": 3,
   "id": "afd09751-9bf2-4c13-8601-19f01e4ddf49",
   "metadata": {},
   "outputs": [
    {
     "name": "stdout",
     "output_type": "stream",
     "text": [
      "Enter numbers\n"
     ]
    },
    {
     "name": "stdin",
     "output_type": "stream",
     "text": [
      " -1, -2, 1, 2, 5, 9, 20, 12, 18, 50, 100\n"
     ]
    },
    {
     "name": "stdout",
     "output_type": "stream",
     "text": [
      "How much boundary need ?\n"
     ]
    },
    {
     "name": "stdin",
     "output_type": "stream",
     "text": [
      " 2\n"
     ]
    },
    {
     "data": {
      "text/plain": [
       "147"
      ]
     },
     "execution_count": 3,
     "metadata": {},
     "output_type": "execute_result"
    }
   ],
   "source": [
    "def program(arr, n):\n",
    "    arr.sort()\n",
    "    l = len(arr)\n",
    "    if (n >= l / 2):\n",
    "        return sum(arr)\n",
    "\n",
    "    sum_number = 0\n",
    "    i = 0\n",
    "    while (i < n):\n",
    "        sum_number += arr[i]\n",
    "        i += 1\n",
    "    i = l - 1\n",
    "    while (i > (l - 1) - n):\n",
    "        sum_number += arr[i]\n",
    "        i -= 1\n",
    "    return sum_number\n",
    "        \n",
    "\n",
    "\n",
    "while True:\n",
    "    try:\n",
    "        print(\"Enter numbers\")\n",
    "        # arr = list(range(1, 11))\n",
    "        arr = input().split(\", \")\n",
    "        arr = [int(x) for x in arr]\n",
    "        break\n",
    "    except:\n",
    "        print(\"Try again with seperator ', '\")\n",
    "while True:\n",
    "    try:\n",
    "        print(\"How much boundary need ?\")\n",
    "        n = int(input())\n",
    "        # n = 10\n",
    "        break\n",
    "    except:\n",
    "        print(\"You must enter number.\")\n",
    "program(arr, n)"
   ]
  },
  {
   "cell_type": "code",
   "execution_count": null,
   "id": "14789134-5a9b-4a45-a52f-c2c4f377d2f4",
   "metadata": {},
   "outputs": [],
   "source": []
  },
  {
   "cell_type": "code",
   "execution_count": null,
   "id": "a77ed6ad-745a-4833-b5c7-60c935e8438d",
   "metadata": {},
   "outputs": [],
   "source": [
    "B = input().split(', ')\n",
    "[int(b) for b in B]"
   ]
  },
  {
   "cell_type": "code",
   "execution_count": null,
   "id": "5e35ed2e-e6bc-4d27-a6d9-7480fc6ce285",
   "metadata": {},
   "outputs": [],
   "source": [
    "A = [-1, -2, 0, 9, -3, 10]\n",
    "A.sort()\n",
    "n = 2\n",
    "output = program(A, n)\n",
    "print(A)\n",
    "print(output)"
   ]
  },
  {
   "cell_type": "code",
   "execution_count": null,
   "id": "68708150-d99e-4289-956f-cde8f021ca43",
   "metadata": {},
   "outputs": [],
   "source": [
    "import math\n",
    "import random\n",
    "\n",
    "A = [random.randint(1, x) for x in range(1, 10)]\n",
    "A\n",
    "A.sort()\n",
    "n = 3\n",
    "output = program(A, n)\n",
    "print(A)\n",
    "print(output)"
   ]
  },
  {
   "cell_type": "code",
   "execution_count": null,
   "id": "dd7c7972-a417-4ede-bb3f-1574f22460fe",
   "metadata": {},
   "outputs": [],
   "source": [
    "random.randint(1, 5)"
   ]
  },
  {
   "cell_type": "code",
   "execution_count": null,
   "id": "b828990b-21ba-4844-98a2-da3543549067",
   "metadata": {},
   "outputs": [],
   "source": [
    "1+2 + 9+10"
   ]
  },
  {
   "cell_type": "code",
   "execution_count": null,
   "id": "f5175df4-931b-4122-a4b6-fcc508aa334f",
   "metadata": {},
   "outputs": [],
   "source": [
    "1+2+3 + 8+9+10"
   ]
  },
  {
   "cell_type": "code",
   "execution_count": null,
   "id": "456590f9-6e46-44ec-8740-42df8be67222",
   "metadata": {},
   "outputs": [],
   "source": []
  }
 ],
 "metadata": {
  "kernelspec": {
   "display_name": "Python 3 (ipykernel)",
   "language": "python",
   "name": "python3"
  },
  "language_info": {
   "codemirror_mode": {
    "name": "ipython",
    "version": 3
   },
   "file_extension": ".py",
   "mimetype": "text/x-python",
   "name": "python",
   "nbconvert_exporter": "python",
   "pygments_lexer": "ipython3",
   "version": "3.11.4"
  }
 },
 "nbformat": 4,
 "nbformat_minor": 5
}
